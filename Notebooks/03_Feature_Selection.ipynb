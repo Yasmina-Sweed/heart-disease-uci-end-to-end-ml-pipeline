{
 "cells": [
  {
   "cell_type": "markdown",
   "id": "c70dd549",
   "metadata": {},
   "source": [
    "# Feature Selection"
   ]
  },
  {
   "cell_type": "markdown",
   "id": "fb5fb74f",
   "metadata": {},
   "source": [
    "In this step, our focus is on selecting the most significant features that influence heart disease prediction. By narrowing down the dataset to only the most informative variables, we can minimize unnecessary complexity, enhance model interpretability, and ensure more reliable results."
   ]
  },
  {
   "cell_type": "code",
   "execution_count": 1,
   "id": "a66dafdc",
   "metadata": {},
   "outputs": [],
   "source": [
    "import pandas as pd\n",
    "import numpy as np\n",
    "from sklearn.model_selection import train_test_split\n",
    "from sklearn.preprocessing import StandardScaler\n",
    "from sklearn.preprocessing import MinMaxScaler\n",
    "from sklearn.ensemble import RandomForestClassifier\n",
    "from sklearn.feature_selection import RFE, chi2, SelectKBest\n",
    "from sklearn.linear_model import LogisticRegression\n",
    "import matplotlib.pyplot as plt\n",
    "import seaborn as sns"
   ]
  },
  {
   "cell_type": "code",
   "execution_count": 2,
   "id": "cf539b86",
   "metadata": {},
   "outputs": [
    {
     "data": {
      "text/html": [
       "<div>\n",
       "<style scoped>\n",
       "    .dataframe tbody tr th:only-of-type {\n",
       "        vertical-align: middle;\n",
       "    }\n",
       "\n",
       "    .dataframe tbody tr th {\n",
       "        vertical-align: top;\n",
       "    }\n",
       "\n",
       "    .dataframe thead th {\n",
       "        text-align: right;\n",
       "    }\n",
       "</style>\n",
       "<table border=\"1\" class=\"dataframe\">\n",
       "  <thead>\n",
       "    <tr style=\"text-align: right;\">\n",
       "      <th></th>\n",
       "      <th>age</th>\n",
       "      <th>trestbps</th>\n",
       "      <th>chol</th>\n",
       "      <th>thalach</th>\n",
       "      <th>oldpeak</th>\n",
       "      <th>num</th>\n",
       "      <th>sex_1</th>\n",
       "      <th>cp_2.0</th>\n",
       "      <th>cp_3.0</th>\n",
       "      <th>cp_4.0</th>\n",
       "      <th>...</th>\n",
       "      <th>restecg_1.0</th>\n",
       "      <th>restecg_2.0</th>\n",
       "      <th>exang_1.0</th>\n",
       "      <th>slope_2.0</th>\n",
       "      <th>slope_3.0</th>\n",
       "      <th>ca_1.0</th>\n",
       "      <th>ca_2.0</th>\n",
       "      <th>ca_3.0</th>\n",
       "      <th>thal_6.0</th>\n",
       "      <th>thal_7.0</th>\n",
       "    </tr>\n",
       "  </thead>\n",
       "  <tbody>\n",
       "    <tr>\n",
       "      <th>0</th>\n",
       "      <td>0.948726</td>\n",
       "      <td>0.757525</td>\n",
       "      <td>-0.264900</td>\n",
       "      <td>0.017197</td>\n",
       "      <td>1.087338</td>\n",
       "      <td>0</td>\n",
       "      <td>True</td>\n",
       "      <td>False</td>\n",
       "      <td>False</td>\n",
       "      <td>False</td>\n",
       "      <td>...</td>\n",
       "      <td>False</td>\n",
       "      <td>True</td>\n",
       "      <td>False</td>\n",
       "      <td>False</td>\n",
       "      <td>True</td>\n",
       "      <td>False</td>\n",
       "      <td>False</td>\n",
       "      <td>False</td>\n",
       "      <td>True</td>\n",
       "      <td>False</td>\n",
       "    </tr>\n",
       "    <tr>\n",
       "      <th>1</th>\n",
       "      <td>1.392002</td>\n",
       "      <td>1.611220</td>\n",
       "      <td>0.760415</td>\n",
       "      <td>-1.821905</td>\n",
       "      <td>0.397182</td>\n",
       "      <td>1</td>\n",
       "      <td>True</td>\n",
       "      <td>False</td>\n",
       "      <td>False</td>\n",
       "      <td>True</td>\n",
       "      <td>...</td>\n",
       "      <td>False</td>\n",
       "      <td>True</td>\n",
       "      <td>True</td>\n",
       "      <td>True</td>\n",
       "      <td>False</td>\n",
       "      <td>False</td>\n",
       "      <td>False</td>\n",
       "      <td>True</td>\n",
       "      <td>False</td>\n",
       "      <td>False</td>\n",
       "    </tr>\n",
       "    <tr>\n",
       "      <th>2</th>\n",
       "      <td>1.392002</td>\n",
       "      <td>-0.665300</td>\n",
       "      <td>-0.342283</td>\n",
       "      <td>-0.902354</td>\n",
       "      <td>1.346147</td>\n",
       "      <td>1</td>\n",
       "      <td>True</td>\n",
       "      <td>False</td>\n",
       "      <td>False</td>\n",
       "      <td>True</td>\n",
       "      <td>...</td>\n",
       "      <td>False</td>\n",
       "      <td>True</td>\n",
       "      <td>True</td>\n",
       "      <td>True</td>\n",
       "      <td>False</td>\n",
       "      <td>False</td>\n",
       "      <td>True</td>\n",
       "      <td>False</td>\n",
       "      <td>False</td>\n",
       "      <td>True</td>\n",
       "    </tr>\n",
       "    <tr>\n",
       "      <th>3</th>\n",
       "      <td>-1.932564</td>\n",
       "      <td>-0.096170</td>\n",
       "      <td>0.063974</td>\n",
       "      <td>1.637359</td>\n",
       "      <td>2.122573</td>\n",
       "      <td>0</td>\n",
       "      <td>True</td>\n",
       "      <td>False</td>\n",
       "      <td>True</td>\n",
       "      <td>False</td>\n",
       "      <td>...</td>\n",
       "      <td>False</td>\n",
       "      <td>False</td>\n",
       "      <td>False</td>\n",
       "      <td>False</td>\n",
       "      <td>True</td>\n",
       "      <td>False</td>\n",
       "      <td>False</td>\n",
       "      <td>False</td>\n",
       "      <td>False</td>\n",
       "      <td>False</td>\n",
       "    </tr>\n",
       "    <tr>\n",
       "      <th>4</th>\n",
       "      <td>-1.489288</td>\n",
       "      <td>-0.096170</td>\n",
       "      <td>-0.825922</td>\n",
       "      <td>0.980537</td>\n",
       "      <td>0.310912</td>\n",
       "      <td>0</td>\n",
       "      <td>False</td>\n",
       "      <td>True</td>\n",
       "      <td>False</td>\n",
       "      <td>False</td>\n",
       "      <td>...</td>\n",
       "      <td>False</td>\n",
       "      <td>True</td>\n",
       "      <td>False</td>\n",
       "      <td>False</td>\n",
       "      <td>False</td>\n",
       "      <td>False</td>\n",
       "      <td>False</td>\n",
       "      <td>False</td>\n",
       "      <td>False</td>\n",
       "      <td>False</td>\n",
       "    </tr>\n",
       "  </tbody>\n",
       "</table>\n",
       "<p>5 rows × 21 columns</p>\n",
       "</div>"
      ],
      "text/plain": [
       "        age  trestbps      chol   thalach   oldpeak  num  sex_1  cp_2.0  \\\n",
       "0  0.948726  0.757525 -0.264900  0.017197  1.087338    0   True   False   \n",
       "1  1.392002  1.611220  0.760415 -1.821905  0.397182    1   True   False   \n",
       "2  1.392002 -0.665300 -0.342283 -0.902354  1.346147    1   True   False   \n",
       "3 -1.932564 -0.096170  0.063974  1.637359  2.122573    0   True   False   \n",
       "4 -1.489288 -0.096170 -0.825922  0.980537  0.310912    0  False    True   \n",
       "\n",
       "   cp_3.0  cp_4.0  ...  restecg_1.0  restecg_2.0  exang_1.0  slope_2.0  \\\n",
       "0   False   False  ...        False         True      False      False   \n",
       "1   False    True  ...        False         True       True       True   \n",
       "2   False    True  ...        False         True       True       True   \n",
       "3    True   False  ...        False        False      False      False   \n",
       "4   False   False  ...        False         True      False      False   \n",
       "\n",
       "   slope_3.0  ca_1.0  ca_2.0  ca_3.0  thal_6.0  thal_7.0  \n",
       "0       True   False   False   False      True     False  \n",
       "1      False   False   False    True     False     False  \n",
       "2      False   False    True   False     False      True  \n",
       "3       True   False   False   False     False     False  \n",
       "4      False   False   False   False     False     False  \n",
       "\n",
       "[5 rows x 21 columns]"
      ]
     },
     "execution_count": 2,
     "metadata": {},
     "output_type": "execute_result"
    }
   ],
   "source": [
    "df = pd.read_csv(\"../Data/cleaned_heart_disease.csv\")\n",
    "df.head()"
   ]
  },
  {
   "cell_type": "markdown",
   "id": "7efb7015",
   "metadata": {},
   "source": [
    "### Feature Importance Using Random Forest\n",
    "We separate the features (X) from the target variable (y).Then, we train a RandomForestClassifier and extract feature importances to understand which features contribute most to the prediction. "
   ]
  },
  {
   "cell_type": "code",
   "execution_count": 3,
   "id": "aebf8bf9",
   "metadata": {},
   "outputs": [],
   "source": [
    "# Separate features (X) and target (y)\n",
    "X = df.drop(columns=[\"num\"])   # num = target\n",
    "y = df[\"num\"]"
   ]
  },
  {
   "cell_type": "code",
   "execution_count": 4,
   "id": "7eb561e5",
   "metadata": {},
   "outputs": [
    {
     "data": {
      "image/png": "[encoded data removed]",
      "text/plain": [
       "<Figure size 1200x600 with 1 Axes>"
      ]
     },
     "metadata": {},
     "output_type": "display_data"
    }
   ],
   "source": [
    "rf = RandomForestClassifier(random_state=42)\n",
    "rf.fit(X, y)\n",
    "\n",
    "# Get importance scores\n",
    "importances = pd.Series(rf.feature_importances_, index=X.columns).sort_values(ascending=False)\n",
    "\n",
    "# Plot\n",
    "plt.figure(figsize=(12,6))\n",
    "sns.barplot(x=importances.index, y=importances)\n",
    "plt.xticks(rotation=90)\n",
    "plt.title(\"Feature Importance (Random Forest)\")\n",
    "plt.xlabel(\"Features\")\n",
    "plt.ylabel(\"Importance Score\")\n",
    "plt.tight_layout()\n",
    "plt.show()"
   ]
  },
  {
   "cell_type": "code",
   "execution_count": 5,
   "id": "74012495",
   "metadata": {},
   "outputs": [
    {
     "name": "stdout",
     "output_type": "stream",
     "text": [
      "thalach: 0.1482\n",
      "oldpeak: 0.1133\n",
      "thal_7.0: 0.0972\n",
      "cp_4.0: 0.0961\n",
      "age: 0.0914\n",
      "chol: 0.0799\n",
      "trestbps: 0.0757\n",
      "exang_1.0: 0.0572\n",
      "slope_2.0: 0.0409\n",
      "sex_1: 0.0386\n",
      "ca_1.0: 0.0357\n",
      "cp_3.0: 0.0266\n",
      "ca_2.0: 0.0256\n",
      "restecg_2.0: 0.0187\n",
      "cp_2.0: 0.0145\n",
      "ca_3.0: 0.0140\n",
      "fbs_1.0: 0.0112\n",
      "thal_6.0: 0.0087\n",
      "slope_3.0: 0.0058\n",
      "restecg_1.0: 0.0007\n"
     ]
    }
   ],
   "source": [
    "# Print Feature Importances in Order\n",
    "for feature, score in importances.items():\n",
    "    print(f\"{feature}: {score:.4f}\")"
   ]
  },
  {
   "cell_type": "markdown",
   "id": "b0b0ca68",
   "metadata": {},
   "source": [
    "### Feature Selection Using Recursive Feature Elimination (RFE)\n",
    "we apply RFE with a Logistic Regression model to select the top 10 most important features. RFE works by recursively removing less important features and building the model repeatedly until the desired number of features is reached."
   ]
  },
  {
   "cell_type": "code",
   "execution_count": 6,
   "id": "8c44c9eb",
   "metadata": {},
   "outputs": [
    {
     "name": "stdout",
     "output_type": "stream",
     "text": [
      "Selected Features by RFE: ['oldpeak', 'sex_1', 'cp_2.0', 'cp_4.0', 'exang_1.0', 'slope_2.0', 'ca_1.0', 'ca_2.0', 'ca_3.0', 'thal_7.0']\n"
     ]
    }
   ],
   "source": [
    "# Use Logistic Regression as estimator\n",
    "model = LogisticRegression(max_iter=1000)\n",
    "rfe = RFE(model, n_features_to_select=10)   # keep best 10 features\n",
    "rfe.fit(X, y)\n",
    "\n",
    "selected_features_rfe = X.columns[rfe.support_]\n",
    "print(\"Selected Features by RFE:\", selected_features_rfe.tolist())"
   ]
  },
  {
   "cell_type": "markdown",
   "id": "464f1b1b",
   "metadata": {},
   "source": [
    "### Feature Selection Using Chi-Square Test\n",
    "We apply the Chi-Square statistical test to evaluate the relationship between each feature and the target variable.  \n",
    "The Chi-Square test measures whether observed differences in frequency distributions are due to chance or if they indicate a significant association.  "
   ]
  },
  {
   "cell_type": "code",
   "execution_count": 7,
   "id": "694a301c",
   "metadata": {},
   "outputs": [
    {
     "name": "stdout",
     "output_type": "stream",
     "text": [
      "Selected Features by Chi-Square: ['oldpeak', 'cp_2.0', 'cp_3.0', 'cp_4.0', 'exang_1.0', 'slope_2.0', 'ca_1.0', 'ca_2.0', 'ca_3.0', 'thal_7.0']\n"
     ]
    }
   ],
   "source": [
    "# Keep a copy of feature names before scaling\n",
    "feature_names = X.columns  \n",
    "\n",
    "# Scale features to non-negative for Chi2\n",
    "X_scaled = MinMaxScaler().fit_transform(X)\n",
    "\n",
    "# Apply Chi-Square test\n",
    "chi_selector = SelectKBest(score_func=chi2, k=10)   # select top 10\n",
    "X_chi = chi_selector.fit_transform(X_scaled, y)\n",
    "\n",
    "# Get selected features\n",
    "selected_features_chi = feature_names[chi_selector.get_support()]\n",
    "print(\"Selected Features by Chi-Square:\", selected_features_chi.tolist())"
   ]
  },
  {
   "cell_type": "markdown",
   "id": "002f078f",
   "metadata": {},
   "source": [
    "### Final Selection"
   ]
  },
  {
   "cell_type": "code",
   "execution_count": 8,
   "id": "d58662b5",
   "metadata": {},
   "outputs": [
    {
     "name": "stdout",
     "output_type": "stream",
     "text": [
      "Final Selected Features: {'ca_2.0', 'thal_7.0', 'thalach', 'age', 'cp_2.0', 'exang_1.0', 'sex_1', 'cp_3.0', 'slope_2.0', 'cp_4.0', 'chol', 'trestbps', 'ca_3.0', 'oldpeak', 'ca_1.0'}\n"
     ]
    }
   ],
   "source": [
    "# Intersection of RFE, RandomForest, and Chi-Square top features\n",
    "final_features = set(selected_features_rfe) | set(selected_features_chi) | set(importances.head(10).index)\n",
    "print(\"Final Selected Features:\", final_features)"
   ]
  },
  {
   "cell_type": "code",
   "execution_count": 9,
   "id": "727c5702",
   "metadata": {},
   "outputs": [],
   "source": [
    "X_reduced = df[list(final_features)].copy()\n",
    "X_reduced[\"num\"] = y\n",
    "X_reduced.to_csv(\"heart_disease_features_selected.csv\", index=False)"
   ]
  }
 ],
 "metadata": {
  "kernelspec": {
   "display_name": "Python 3 (ipykernel)",
   "language": "python",
   "name": "python3"
  },
  "language_info": {
   "codemirror_mode": {
    "name": "ipython",
    "version": 3
   },
   "file_extension": ".py",
   "mimetype": "text/x-python",
   "name": "python",
   "nbconvert_exporter": "python",
   "pygments_lexer": "ipython3",
   "version": "3.11.5"
  }
 },
 "nbformat": 4,
 "nbformat_minor": 5
}
